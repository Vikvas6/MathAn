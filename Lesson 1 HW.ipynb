{
 "cells": [
  {
   "cell_type": "markdown",
   "metadata": {},
   "source": [
    "### Тема 1"
   ]
  },
  {
   "cell_type": "markdown",
   "metadata": {},
   "source": [
    "1) Последовательность является дочерним субъектом множества."
   ]
  },
  {
   "cell_type": "markdown",
   "metadata": {},
   "source": [
    "2)\n",
    "\n",
    "а) Для любого числа из отрезка от 0 до 1, функция знака этого числа равна 1.\n",
    "\n",
    "\tЭто высказывание ложно (знак 0 равен 0)\n",
    "    \n",
    "\tОтрицание: существует число из отрезка от 0 до 1, функция знака которого не равна 1"
   ]
  },
  {
   "cell_type": "markdown",
   "metadata": {},
   "source": [
    "   б) Для любого натурального числа n больше 2 существуют 3 натуральных числа, такие что первое число в степени n равно сумме оставшихся двух чисел, которые предварительно возведены в степень n\n",
    "   \n",
    "    Это высказывание ложно (Великая теорема Ферма)\n",
    "    \n",
    "\tОтрицание: существует такое натуральное число n больше 2, что для любых трёх натуральных чисел первое число в степени n не будет равно сумме оставшихся двух чисел, которые предварительно возведены в степень n"
   ]
  },
  {
   "cell_type": "markdown",
   "metadata": {},
   "source": [
    "   в) Для любого вещественного числа х существует вещественное число, которое является строго больше х\n",
    "   \n",
    "    Это высказывание истинно\n",
    "    \n",
    "\tОтрицание: существует такое вещественное число х, что любое вещественное число не больше х\n",
    "   "
   ]
  },
  {
   "cell_type": "markdown",
   "metadata": {},
   "source": [
    "г) Для любого комлексного числа х не существует такого комлексного числа у, чтобы можно было сказать, что х больше у или х меньше у\n",
    "\n",
    "    Это высказывание не корректно, на комплексных числах вообще не задано отношение больше-меньше\n",
    "    \n",
    "\tОтрицание: существует комлексное числа х, для которого существует комплексное число у, что можно сказать, что х больше у или х меньше у"
   ]
  },
  {
   "cell_type": "markdown",
   "metadata": {},
   "source": [
    "д) Для любого у из отрезка от 0 до пи пополам существует эпсилон больше 0, что синус у меньше, чем синус от у + эпсилон\n",
    "\n",
    "    Это высказывание ложно (пи/2)\n",
    "    \n",
    "\tОтрицание: существует у из отрезка от 0 до пи пополам, такое, что для любого эпсилон больше 0 синус у больше, чем синус от у + эпсилон"
   ]
  },
  {
   "cell_type": "markdown",
   "metadata": {},
   "source": [
    "е) Для любого у из полуинтервала от 0 включительно до пи не включительно существует эпсилон больше 0, что косинус у больше чем косинус от у 6 эпсилон\n",
    "\n",
    "    Это высказывание истинно\n",
    "    \n",
    "\tОтрицание: существует у из полуинтервала от 0 включительно до пи не включительно, такое, что для любого эпсилон больше 0 косинус у меньше, чем косинус от у + эпсилон"
   ]
  },
  {
   "cell_type": "markdown",
   "metadata": {},
   "source": [
    "ё) Существует такое х, которое не принадлежит множеству, состоящему из множеств натуральных, целых, рациональных, вещественных и комлексных чисел\n",
    "\n",
    "    Это высказывание истинно (существует слон)\n",
    "    \n",
    "\tОтрицание: любое х принадлежит множеству, состоящему из множеств натуральных, целых, рациональных, вещественных и комлексных чисел"
   ]
  },
  {
   "cell_type": "markdown",
   "metadata": {},
   "source": [
    "### Тема 2"
   ]
  },
  {
   "cell_type": "markdown",
   "metadata": {},
   "source": [
    "1) Даны три множества a,b и с. Необходимо выполнить все изученные виды бинарных операций над всеми комбинациями множеств."
   ]
  },
  {
   "cell_type": "markdown",
   "metadata": {},
   "source": [
    " $a \\cup b$\n",
    " \n",
    " $a \\cap b$\n",
    " \n",
    " a \\ b\n",
    " \n",
    " $a  \\Delta  b$\n",
    " \n",
    " $a \\times b$"
   ]
  },
  {
   "cell_type": "markdown",
   "metadata": {},
   "source": [
    " $a \\cup c$\n",
    " \n",
    " $a \\cap c$\n",
    " \n",
    " a \\ c\n",
    " \n",
    " $a  \\Delta  c$\n",
    " \n",
    " $a \\times c$"
   ]
  },
  {
   "cell_type": "markdown",
   "metadata": {},
   "source": [
    " $c \\cup b$\n",
    " \n",
    " $c \\cap b$\n",
    " \n",
    " c \\ b\n",
    " \n",
    " $c  \\Delta  b$\n",
    " \n",
    " $c \\times b$"
   ]
  },
  {
   "cell_type": "markdown",
   "metadata": {},
   "source": [
    " $c \\cup a$\n",
    " \n",
    " $c \\cap a$\n",
    " \n",
    " c \\ a\n",
    " \n",
    " $c  \\Delta  a$\n",
    " \n",
    " $c \\times a$"
   ]
  },
  {
   "cell_type": "markdown",
   "metadata": {},
   "source": [
    " $b \\cup a$\n",
    " \n",
    " $b \\cap a$\n",
    " \n",
    " b \\ a\n",
    " \n",
    " $b  \\Delta  a$\n",
    " \n",
    " $b \\times a$"
   ]
  },
  {
   "cell_type": "markdown",
   "metadata": {},
   "source": [
    " $b \\cup c$\n",
    " \n",
    " $b \\cap c$\n",
    " \n",
    " b \\ c\n",
    " \n",
    " $b  \\Delta  c$\n",
    " \n",
    " $b \\times c$"
   ]
  },
  {
   "cell_type": "markdown",
   "metadata": {},
   "source": [
    "2) *Выполнить задание 1 на языке Python"
   ]
  },
  {
   "cell_type": "code",
   "execution_count": 15,
   "metadata": {
    "scrolled": true
   },
   "outputs": [
    {
     "name": "stdout",
     "output_type": "stream",
     "text": [
      "a union b = {1, 2, 3}\n",
      "a intersection b = {2}\n",
      "a minus b = {1}\n",
      "a symmetric difference b = {1, 3}\n",
      "a multiple b = {(1, 2), (1, 3), (2, 3), (2, 2)}\n",
      "a union c = {1, 2, 3, 4}\n",
      "a intersection c = {}\n",
      "a minus c = {1, 2}\n",
      "a symmetric difference c = {1, 2, 3, 4}\n",
      "a multiple c = {(1, 3), (2, 3), (2, 4), (1, 4)}\n",
      "b union a = {1, 2, 3}\n",
      "b intersection a = {2}\n",
      "b minus a = {3}\n",
      "b symmetric difference a = {1, 3}\n",
      "b multiple a = {(3, 2), (3, 1), (2, 1), (2, 2)}\n",
      "b union c = {2, 3, 4}\n",
      "b intersection c = {3}\n",
      "b minus c = {2}\n",
      "b symmetric difference c = {2, 4}\n",
      "b multiple c = {(3, 4), (2, 3), (2, 4), (3, 3)}\n",
      "c union a = {1, 2, 3, 4}\n",
      "c intersection a = {}\n",
      "c minus a = {3, 4}\n",
      "c symmetric difference a = {1, 2, 3, 4}\n",
      "c multiple a = {(4, 2), (3, 2), (3, 1), (4, 1)}\n",
      "c union b = {2, 3, 4}\n",
      "c intersection b = {3}\n",
      "c minus b = {4}\n",
      "c symmetric difference b = {2, 4}\n",
      "c multiple b = {(4, 2), (3, 2), (3, 3), (4, 3)}\n"
     ]
    }
   ],
   "source": [
    "a = {1, 2}\n",
    "b = {2, 3}\n",
    "c = {3, 4}\n",
    "set_dict = {'a': a, 'b': b, 'c': c}\n",
    "\n",
    "for i in set_dict:\n",
    "    for j in set_dict:\n",
    "        if i == j:\n",
    "            continue\n",
    "        un = set_dict[i].union(set_dict[j])\n",
    "        inter = set_dict[i].intersection(set_dict[j])\n",
    "        minu = set_dict[i].difference(set_dict[j])\n",
    "        smin = set_dict[i].symmetric_difference(set_dict[j])\n",
    "        mul = set()\n",
    "        for i1 in set_dict[i]:\n",
    "            for j1 in set_dict[j]:\n",
    "                mul.add((i1, j1))\n",
    "        \n",
    "        print(f'{i} union {j} = {\"{}\" if len(un) == 0 else un}')\n",
    "        print(f'{i} intersection {j} = {\"{}\" if len(inter) == 0 else inter}')\n",
    "        print(f'{i} minus {j} = {\"{}\" if len(minu) == 0 else minu}')\n",
    "        print(f'{i} symmetric difference {j} = {\"{}\" if len(smin) == 0 else smin}')\n",
    "        print(f'{i} multiple {j} = {mul}')"
   ]
  },
  {
   "cell_type": "markdown",
   "metadata": {},
   "source": [
    "### Тема 3"
   ]
  },
  {
   "cell_type": "markdown",
   "metadata": {},
   "source": [
    "4 последовательности:\n",
    "\n",
    "1) Монотонно возрастает, неограничена сверху, снизу ограничена единицей, пятый член равен 27\n",
    "\n",
    "2) Монотонно возрастает, ограничена снизу -1, сверху 0, пятый член равен -1/4\n",
    "\n",
    "3) Монотонно возрастает (возможно, в скобки (-1) хотели взять), ограничена снизу -1 + корень из 2х, сверху не ограничена, пятый: -1 + корень из 10\n",
    "\n",
    "4) Монотонно убывает, ограничена снизу 1, сверху 2, пятый: 26/25"
   ]
  },
  {
   "cell_type": "markdown",
   "metadata": {},
   "source": [
    "#### Задание 4"
   ]
  },
  {
   "cell_type": "markdown",
   "metadata": {},
   "source": [
    "Последовательность можно задать явно: а\\_n = 122 + n*6, тогда a\\_12 = 152"
   ]
  },
  {
   "cell_type": "markdown",
   "metadata": {},
   "source": [
    "#### Задание 5"
   ]
  },
  {
   "cell_type": "markdown",
   "metadata": {},
   "source": [
    "Может это неправильный подход, но я буду искать предел с заданной точностью зная, чему равен предел (он равен e). В моём арсенале нет алгоритма, который позволяет найти предел и утверждать, что найденное число отличается от реального не более чем на заданную погрешность"
   ]
  },
  {
   "cell_type": "code",
   "execution_count": 88,
   "metadata": {},
   "outputs": [],
   "source": [
    "epsilon = 1e-2"
   ]
  },
  {
   "cell_type": "code",
   "execution_count": 89,
   "metadata": {},
   "outputs": [],
   "source": [
    "import numpy as np"
   ]
  },
  {
   "cell_type": "code",
   "execution_count": 90,
   "metadata": {},
   "outputs": [],
   "source": [
    "from decimal import *"
   ]
  },
  {
   "cell_type": "code",
   "execution_count": 92,
   "metadata": {},
   "outputs": [
    {
     "name": "stdout",
     "output_type": "stream",
     "text": [
      "Step: 1302, limit is 2.7088930109510409839049315853409\n"
     ]
    }
   ],
   "source": [
    "with localcontext() as ctx:\n",
    "    ctx.prec = 32\n",
    "    n = Decimal(1)\n",
    "    cur = n / np.power(numpy.math.factorial(n), 1/n)\n",
    "    while True:\n",
    "        k = n + 1\n",
    "        nxt = k / np.power(numpy.math.factorial(k), 1/k)\n",
    "        if np.abs(nxt - Decimal(np.exp(1))) < epsilon:\n",
    "            print(f'Step: {k}, limit is {nxt}')\n",
    "            break\n",
    "        cur = nxt\n",
    "        n += 100"
   ]
  },
  {
   "cell_type": "markdown",
   "metadata": {},
   "source": [
    "Очень долго сходится, поэтому результат менее точный, надо улучшить алгоритм"
   ]
  },
  {
   "cell_type": "markdown",
   "metadata": {},
   "source": [
    "### Задание 6"
   ]
  },
  {
   "cell_type": "markdown",
   "metadata": {},
   "source": [
    "Идея простая - не вычислять каждый раз факториал."
   ]
  },
  {
   "cell_type": "code",
   "execution_count": 95,
   "metadata": {},
   "outputs": [],
   "source": [
    "alpha = 10"
   ]
  },
  {
   "cell_type": "code",
   "execution_count": 132,
   "metadata": {},
   "outputs": [],
   "source": [
    "epsilon = 1e-4"
   ]
  },
  {
   "cell_type": "code",
   "execution_count": 134,
   "metadata": {},
   "outputs": [
    {
     "name": "stdout",
     "output_type": "stream",
     "text": [
      "Step: 190192, limit is 2.718181829426800925891079589458343092067206873169626361013248700\n"
     ]
    }
   ],
   "source": [
    "with localcontext() as ctx:\n",
    "    ctx.prec = 64\n",
    "    n = Decimal(1)\n",
    "    cur = n / np.power(numpy.math.factorial(n), 1/n)\n",
    "    rate = int(alpha / epsilon)\n",
    "    fac = 1\n",
    "    while True:\n",
    "        k = n + 1\n",
    "        fac *= k\n",
    "        nxt = k / np.power(fac, 1/k)\n",
    "        delta = np.abs(nxt - Decimal(np.exp(1)))\n",
    "        if delta < epsilon:\n",
    "            print(f'Step: {k}, limit is {nxt}')\n",
    "            break\n",
    "        p = delta * Decimal(alpha / epsilon)\n",
    "        n += int(p)\n",
    "        i = k\n",
    "        while i < n:\n",
    "            i += 1\n",
    "            fac *= i\n",
    "        cur = nxt"
   ]
  },
  {
   "cell_type": "markdown",
   "metadata": {},
   "source": [
    "К сожалению, при увеличении точности хотя бы до 10 в -5 я столкиваюсь с проблемой переполнения даже типа Decimal, к такому я не был готов =("
   ]
  }
 ],
 "metadata": {
  "kernelspec": {
   "display_name": "Python 3",
   "language": "python",
   "name": "python3"
  },
  "language_info": {
   "codemirror_mode": {
    "name": "ipython",
    "version": 3
   },
   "file_extension": ".py",
   "mimetype": "text/x-python",
   "name": "python",
   "nbconvert_exporter": "python",
   "pygments_lexer": "ipython3",
   "version": "3.6.5"
  }
 },
 "nbformat": 4,
 "nbformat_minor": 2
}
